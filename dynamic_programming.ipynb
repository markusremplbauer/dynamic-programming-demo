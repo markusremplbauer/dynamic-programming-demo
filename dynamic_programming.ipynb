{
 "cells": [
  {
   "cell_type": "markdown",
   "metadata": {},
   "source": [
    "## N-th Fibonacci Number\n",
    "\n",
    "$F_1 = F_2 = 1$\n",
    "\n",
    "$F_n = F_{n-1} + F_{n-2}$\n",
    "\n",
    "### N-th Fibonacci Number: naive recursive\n"
   ]
  },
  {
   "cell_type": "code",
   "execution_count": 2,
   "metadata": {},
   "outputs": [],
   "source": [
    "def fib(n):\n",
    "    if n <= 2:\n",
    "        result = 1\n",
    "    else:\n",
    "        result = fib(n - 1) + fib(n - 2)\n",
    "\n",
    "    return result"
   ]
  },
  {
   "cell_type": "code",
   "execution_count": 24,
   "metadata": {},
   "outputs": [
    {
     "data": {
      "text/plain": [
       "13"
      ]
     },
     "execution_count": 24,
     "metadata": {},
     "output_type": "execute_result"
    }
   ],
   "source": [
    "fib(7)"
   ]
  },
  {
   "cell_type": "code",
   "execution_count": 23,
   "metadata": {},
   "outputs": [
    {
     "data": {
      "text/plain": [
       "9227465"
      ]
     },
     "execution_count": 23,
     "metadata": {},
     "output_type": "execute_result"
    }
   ],
   "source": [
    "fib(35)"
   ]
  },
  {
   "cell_type": "markdown",
   "metadata": {},
   "source": [
    "The recursive approach for calculating Fibonacci numbers has exponential time complexity due to repeated calculations. By using dynamic programming, we store previously computed results, reducing the time complexity to linear, which significantly improves performance for larger inputs.\n"
   ]
  },
  {
   "cell_type": "markdown",
   "metadata": {},
   "source": [
    "### n-th Fibonacci: dynamic programming\n"
   ]
  },
  {
   "cell_type": "code",
   "execution_count": 14,
   "metadata": {},
   "outputs": [],
   "source": [
    "dp = {}\n",
    "\n",
    "def fib_dp(n):\n",
    "    if n in dp:\n",
    "        return dp[n]\n",
    "    if n <= 2:\n",
    "        result = 1\n",
    "\n",
    "    else:\n",
    "        result = fib_dp(n - 1) + fib_dp(n - 2)\n",
    "\n",
    "    dp[n] = result\n",
    "    return result"
   ]
  },
  {
   "cell_type": "code",
   "execution_count": 22,
   "metadata": {},
   "outputs": [
    {
     "data": {
      "text/plain": [
       "13"
      ]
     },
     "execution_count": 22,
     "metadata": {},
     "output_type": "execute_result"
    }
   ],
   "source": [
    "fib_dp(7)"
   ]
  },
  {
   "cell_type": "code",
   "execution_count": 20,
   "metadata": {},
   "outputs": [
    {
     "data": {
      "text/plain": [
       "9227465"
      ]
     },
     "execution_count": 20,
     "metadata": {},
     "output_type": "execute_result"
    }
   ],
   "source": [
    "fib_dp(35)"
   ]
  },
  {
   "cell_type": "code",
   "execution_count": 21,
   "metadata": {},
   "outputs": [
    {
     "data": {
      "text/plain": [
       "354224848179261915075"
      ]
     },
     "execution_count": 21,
     "metadata": {},
     "output_type": "execute_result"
    }
   ],
   "source": [
    "fib_dp(100)"
   ]
  },
  {
   "cell_type": "markdown",
   "metadata": {},
   "source": [
    "The dynamic programming approach reduces the time complexity of calculating Fibonacci numbers from exponential to linear. This is achieved by storing previously computed results in the dictionary `dp`, which eliminates redundant calculations and significantly improves performance for larger inputs.\n"
   ]
  },
  {
   "cell_type": "markdown",
   "metadata": {},
   "source": [
    "In essence, the dynamic programming approach is a form of memoization, which is a technique for storing previously computed results to avoid repeated calculations.\n",
    "\n",
    "$DP=Recursion+Memoization$\n"
   ]
  },
  {
   "cell_type": "markdown",
   "metadata": {},
   "source": [
    "Now we can implement the iterative bottom-up approach, which is more efficient than the recursive top-down approach.\n",
    "\n",
    "### N-th Fibonacci Number: dp iterative bottom-up\n"
   ]
  },
  {
   "cell_type": "code",
   "execution_count": 41,
   "metadata": {},
   "outputs": [],
   "source": [
    "def fib_dp_bottom_up(n):\n",
    "    dp = {}\n",
    "\n",
    "    for i in range(1, n + 1):\n",
    "        if i <= 2:\n",
    "            result = 1\n",
    "        else:\n",
    "            result = dp[i - 1] + dp[i - 2]\n",
    "\n",
    "        dp[i] = result\n",
    "\n",
    "    return dp[n]"
   ]
  },
  {
   "cell_type": "code",
   "execution_count": 42,
   "metadata": {},
   "outputs": [
    {
     "data": {
      "text/plain": [
       "354224848179261915075"
      ]
     },
     "execution_count": 42,
     "metadata": {},
     "output_type": "execute_result"
    }
   ],
   "source": [
    "fib_dp_bottom_up(100)"
   ]
  },
  {
   "cell_type": "markdown",
   "metadata": {},
   "source": [
    "## Coin Problem: Minimum coins\n",
    "\n",
    "Given a set of coin values `coins = {c1, c2, ..., ck}` and a target sum of money `m`, what's the minimum number of coins that form the sum `m`?\n",
    "\n",
    "$solution(0) = 0$\n",
    "\n",
    "$solution(m) = min_{c \\in coins} solution(m - c) + 1$\n",
    "\n",
    "### Coin Problem: naive recursive\n"
   ]
  },
  {
   "cell_type": "code",
   "execution_count": 44,
   "metadata": {},
   "outputs": [],
   "source": [
    "def min_ignore_none(a, b):\n",
    "    if a is None:\n",
    "        return b\n",
    "\n",
    "    if b is None:\n",
    "        return a\n",
    "\n",
    "    return min(a, b)\n",
    "\n",
    "\n",
    "def min_coins(m, coins):\n",
    "    if m == 0:\n",
    "        answer = 0\n",
    "    else:\n",
    "        answer = None\n",
    "        for coin in coins:\n",
    "            subproblem = m - coin\n",
    "\n",
    "            if subproblem < 0:\n",
    "                continue\n",
    "\n",
    "            answer = min_ignore_none(answer, min_coins(subproblem, coins) + 1)\n",
    "\n",
    "    return answer"
   ]
  },
  {
   "cell_type": "code",
   "execution_count": 28,
   "metadata": {},
   "outputs": [
    {
     "data": {
      "text/plain": [
       "3"
      ]
     },
     "execution_count": 28,
     "metadata": {},
     "output_type": "execute_result"
    }
   ],
   "source": [
    "min_coins(13, [1, 4, 5])"
   ]
  },
  {
   "cell_type": "code",
   "execution_count": 33,
   "metadata": {},
   "outputs": [
    {
     "data": {
      "text/plain": [
       "8"
      ]
     },
     "execution_count": 33,
     "metadata": {},
     "output_type": "execute_result"
    }
   ],
   "source": [
    "min_coins(40, [1, 4, 5])"
   ]
  },
  {
   "cell_type": "markdown",
   "metadata": {},
   "source": [
    "Now once again we can use dynamic programming to solve this problem. We again make use of the dictionary `dp` to memorize previously computed results.\n",
    "\n",
    "### Coin Problem: dynamic programming\n"
   ]
  },
  {
   "cell_type": "code",
   "execution_count": 45,
   "metadata": {},
   "outputs": [],
   "source": [
    "dp = {}\n",
    "\n",
    "\n",
    "def min_coins_dp(m, coins):\n",
    "    if m in dp:\n",
    "        return dp[m]\n",
    "\n",
    "    if m == 0:\n",
    "        answer = 0\n",
    "\n",
    "    else:\n",
    "        answer = None\n",
    "\n",
    "        for coin in coins:\n",
    "            subproblem = m - coin\n",
    "\n",
    "            if subproblem < 0:\n",
    "                continue\n",
    "\n",
    "            answer = min_ignore_none(answer, min_coins_dp(subproblem, coins) + 1)\n",
    "\n",
    "    dp[m] = answer\n",
    "\n",
    "    return answer"
   ]
  },
  {
   "cell_type": "code",
   "execution_count": 37,
   "metadata": {},
   "outputs": [
    {
     "data": {
      "text/plain": [
       "3"
      ]
     },
     "execution_count": 37,
     "metadata": {},
     "output_type": "execute_result"
    }
   ],
   "source": [
    "min_coins_dp(13, [1, 4, 5])"
   ]
  },
  {
   "cell_type": "code",
   "execution_count": 38,
   "metadata": {},
   "outputs": [
    {
     "data": {
      "text/plain": [
       "8"
      ]
     },
     "execution_count": 38,
     "metadata": {},
     "output_type": "execute_result"
    }
   ],
   "source": [
    "min_coins_dp(40, [1, 4, 5])"
   ]
  },
  {
   "cell_type": "code",
   "execution_count": 39,
   "metadata": {},
   "outputs": [
    {
     "data": {
      "text/plain": [
       "30"
      ]
     },
     "execution_count": 39,
     "metadata": {},
     "output_type": "execute_result"
    }
   ],
   "source": [
    "min_coins_dp(150, [1, 4, 5])"
   ]
  },
  {
   "cell_type": "markdown",
   "metadata": {},
   "source": [
    "The iterative bottom-up approach is more efficient than the recursive top-down approach and would look like this for the minimum coins problem.\n",
    "\n",
    "### Coin Problem: dp iterative bottom-up\n"
   ]
  },
  {
   "cell_type": "code",
   "execution_count": 58,
   "metadata": {},
   "outputs": [],
   "source": [
    "def min_coins_dp_bottom_up(m, coins):\n",
    "    dp = {}\n",
    "    dp[0] = 0\n",
    "\n",
    "    for i in range(1, m + 1):\n",
    "        for coin in coins:\n",
    "            subproblem = i - coin\n",
    "\n",
    "            if subproblem < 0:\n",
    "                continue\n",
    "\n",
    "            dp[i] = min_ignore_none(dp.get(i), dp.get(subproblem) + 1)\n",
    "\n",
    "    return dp[m]"
   ]
  },
  {
   "cell_type": "code",
   "execution_count": 55,
   "metadata": {},
   "outputs": [
    {
     "data": {
      "text/plain": [
       "3"
      ]
     },
     "execution_count": 55,
     "metadata": {},
     "output_type": "execute_result"
    }
   ],
   "source": [
    "min_coins_dp_bottom_up(13, [1, 4, 5])"
   ]
  },
  {
   "cell_type": "code",
   "execution_count": 56,
   "metadata": {},
   "outputs": [
    {
     "data": {
      "text/plain": [
       "8"
      ]
     },
     "execution_count": 56,
     "metadata": {},
     "output_type": "execute_result"
    }
   ],
   "source": [
    "min_coins_dp_bottom_up(40, [1, 4, 5])"
   ]
  },
  {
   "cell_type": "code",
   "execution_count": 59,
   "metadata": {},
   "outputs": [
    {
     "data": {
      "text/plain": [
       "30"
      ]
     },
     "execution_count": 59,
     "metadata": {},
     "output_type": "execute_result"
    }
   ],
   "source": [
    "min_coins_dp_bottom_up(150, [1, 4, 5])"
   ]
  },
  {
   "cell_type": "markdown",
   "metadata": {},
   "source": [
    "## Coin Problem: How many ways\n",
    "\n",
    "Given a set of coin values `coins = {c1, c2, ..., ck}` and a target sum of money `m`, in how many ways can we form the sum `m` using these coins?\n",
    "\n",
    "$solution(0) = 1$\n",
    "\n",
    "$solution(m) = \\sum_{c \\in coins} solution(m - c)$\n"
   ]
  },
  {
   "cell_type": "code",
   "execution_count": 73,
   "metadata": {},
   "outputs": [],
   "source": [
    "from collections import defaultdict\n",
    "\n",
    "def how_many_ways(m, coins):\n",
    "    dp = defaultdict(lambda _: 0)\n",
    "    dp[0] = 1\n",
    "    \n",
    "    for i in range(1, m + 1):\n",
    "        dp[i] = 0\n",
    "\n",
    "        for coin in coins:\n",
    "            subproblem = i - coin\n",
    "\n",
    "            if subproblem < 0:\n",
    "                continue\n",
    "\n",
    "            dp[i] += dp[subproblem]\n",
    "\n",
    "    return dp[m]"
   ]
  },
  {
   "cell_type": "code",
   "execution_count": 64,
   "metadata": {},
   "outputs": [
    {
     "data": {
      "text/plain": [
       "4"
      ]
     },
     "execution_count": 64,
     "metadata": {},
     "output_type": "execute_result"
    }
   ],
   "source": [
    "how_many_ways(5, [1, 4, 5])"
   ]
  },
  {
   "cell_type": "code",
   "execution_count": 65,
   "metadata": {},
   "outputs": [
    {
     "data": {
      "text/plain": [
       "271806901"
      ]
     },
     "execution_count": 65,
     "metadata": {},
     "output_type": "execute_result"
    }
   ],
   "source": [
    "how_many_ways(50, [1, 4, 5])"
   ]
  },
  {
   "cell_type": "markdown",
   "metadata": {},
   "source": [
    "## Maze Problem\n",
    "\n",
    "Given a NxM grid, in how many ways can a rabbit get from the top-left to the bottom-right corner if ic can only move down or right?\n",
    "\n",
    "$solutions(1, m) = solution(n, 1) = 1$\n",
    "\n",
    "$solution(n, m) = solutions(n - 1, m) + solutions(n, m - 1)$\n"
   ]
  },
  {
   "cell_type": "code",
   "execution_count": 67,
   "metadata": {},
   "outputs": [],
   "source": [
    "def grid_paths(n, m):\n",
    "    dp = {}\n",
    "\n",
    "    # base cases\n",
    "    for i in range(1, n + 1):\n",
    "        dp[(i, 1)] = 1\n",
    "    for j in range(1, m + 1):\n",
    "        dp[(1, j)] = 1\n",
    "\n",
    "    for i in range(2, n + 1):\n",
    "        for j in range(2, m + 1):\n",
    "            dp[(i, j)] = dp[(i - 1, j)] + dp[(i, j - 1)]\n",
    "\n",
    "    return dp[(n, m)]"
   ]
  },
  {
   "cell_type": "code",
   "execution_count": 68,
   "metadata": {},
   "outputs": [
    {
     "data": {
      "text/plain": [
       "6"
      ]
     },
     "execution_count": 68,
     "metadata": {},
     "output_type": "execute_result"
    }
   ],
   "source": [
    "grid_paths(3, 3)"
   ]
  },
  {
   "cell_type": "code",
   "execution_count": 71,
   "metadata": {},
   "outputs": [
    {
     "data": {
      "text/plain": [
       "26334"
      ]
     },
     "execution_count": 71,
     "metadata": {},
     "output_type": "execute_result"
    }
   ],
   "source": [
    "grid_paths(18, 6)"
   ]
  },
  {
   "cell_type": "code",
   "execution_count": 72,
   "metadata": {},
   "outputs": [
    {
     "data": {
      "text/plain": [
       "5873182941643167150"
      ]
     },
     "execution_count": 72,
     "metadata": {},
     "output_type": "execute_result"
    }
   ],
   "source": [
    "grid_paths(75, 19)"
   ]
  }
 ],
 "metadata": {
  "kernelspec": {
   "display_name": "Python 3",
   "language": "python",
   "name": "python3"
  },
  "language_info": {
   "codemirror_mode": {
    "name": "ipython",
    "version": 3
   },
   "file_extension": ".py",
   "mimetype": "text/x-python",
   "name": "python",
   "nbconvert_exporter": "python",
   "pygments_lexer": "ipython3",
   "version": "3.10.0"
  }
 },
 "nbformat": 4,
 "nbformat_minor": 2
}
